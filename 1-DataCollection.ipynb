{
 "cells": [
  {
   "cell_type": "code",
   "execution_count": 17,
   "metadata": {},
   "outputs": [],
   "source": [
    "from datetime import datetime, timedelta\n",
    "import time\n",
    "import requests\n",
    "import csv"
   ]
  },
  {
   "cell_type": "code",
   "execution_count": null,
   "metadata": {},
   "outputs": [],
   "source": [
    "Creating variables that hold the coordinates of the city Bangalore, the API key provided by DarkSky API, the Base URL, that starting date fr "
   ]
  },
  {
   "cell_type": "code",
   "execution_count": 18,
   "metadata": {},
   "outputs": [],
   "source": [
    "LOCATION = \"12.976,77.954\"\n",
    "API_KEY = 'a086db0044d848560a257227c648e59f'\n",
    "BASE_URL = \"https://api.darksky.net/forecast/{}/{},{}?{}\"\n",
    "EXCLUDE = \"exclude=currently,minutely,hourly,alerts,flags\"\n",
    "TARGET_DATE = datetime(2018, 1, 1)\n",
    "\n",
    "features = [\"date\", \"temperatureMin\", \"temperatureMax\", \"humidity\", \"dewPoint\", \"windSpeed\"]"
   ]
  },
  {
   "cell_type": "code",
   "execution_count": null,
   "metadata": {},
   "outputs": [],
   "source": [
    "def extract_weather_data(url, api_key, location, exclude, target_date, days):\n",
    "    record = []\n",
    "    for _ in range(days):\n",
    "        rec_day = []\n",
    "        string_time = target_date.strftime('%Y/%m/%d')\n",
    "        response = requests.get(url.format(api_key, location, int(time.mktime(datetime.strptime(string_time,'%Y/%m/%d').timetuple())), exclude))\n",
    "        if response.status_code == 200:\n",
    "            \n",
    "            data = response.json()['daily']['data'][0]\n",
    "            rec_day.append(target_date.strftime('%Y/%m/%d'))\n",
    "            for item in features:\n",
    "                if item != 'date':\n",
    "                    rec_day.append(data[item])\n",
    "                \n",
    "        record.append(rec_day)\n",
    "        time.sleep(6)\n",
    "        target_date += timedelta(1)\n",
    "    return record"
   ]
  },
  {
   "cell_type": "code",
   "execution_count": null,
   "metadata": {},
   "outputs": [],
   "source": [
    "with open('WeatherDataSet.csv', 'a+', newline='') as csv_file:\n",
    "    csv_writer = csv.writer(csv_file)\n",
    "    csv_writer.writerow(features)\n",
    "    \n",
    "    collected_data = extract_weather_data(BASE_URL, API_KEY, LOCATION, EXCLUDE, TARGET_DATE, 940)\n",
    "    for day in collected_data:\n",
    "        csv_writer.writerow(day)\n",
    "        \n",
    "csv_file.close()"
   ]
  },
  {
   "cell_type": "code",
   "execution_count": null,
   "metadata": {},
   "outputs": [],
   "source": [
    "TARGET_DATE += timedelta(940)\n",
    "with open('WeatherDataSet.csv', 'a+', newline='') as csv_file:\n",
    "    csv_writer = csv.writer(csv_file)\n",
    "    csv_writer.writerow(features)\n",
    "    \n",
    "    collected_data = extract_weather_data(BASE_URL, API_KEY, LOCATION, EXCLUDE, TARGET_DATE, 886)\n",
    "    for day in collected_data:\n",
    "        csv_writer.writerow(day)\n",
    "        \n",
    "csv_file.close()"
   ]
  },
  {
   "cell_type": "code",
   "execution_count": 42,
   "metadata": {},
   "outputs": [],
   "source": [
    "EXCLUDE = \"exclude=currently,minutely,daily,alerts,flags\"\n",
    "TARGET_DATE = datetime(2018, 1, 1)"
   ]
  },
  {
   "cell_type": "code",
   "execution_count": 41,
   "metadata": {},
   "outputs": [],
   "source": [
    "def get_mean_temp(url, api_key, location, exclude, target_date, days):\n",
    "    meanTemp = []\n",
    "    for _ in range(days):\n",
    "        temp = 0\n",
    "        string_time = target_date.strftime('%Y/%m/%d')\n",
    "        response = requests.get(url.format(api_key, location, int(time.mktime(datetime.strptime(string_time,'%Y/%m/%d').timetuple())), exclude))\n",
    "        if response.status_code == 200:\n",
    "            for i in range(24):\n",
    "                data = response.json()['hourly']['data'][i]\n",
    "                temp += data[\"temperature\"]\n",
    "                data ={}\n",
    "            mean = temp/24\n",
    "            meanTemp.append(round(mean,4))\n",
    "    return meanTemp"
   ]
  },
  {
   "cell_type": "code",
   "execution_count": null,
   "metadata": {},
   "outputs": [],
   "source": [
    "collectedMeanTemp = get_mean_temp(BASE_URL, API_KEY, LOCATION, EXCLUDE, TARGET_DATE, 940)"
   ]
  },
  {
   "cell_type": "code",
   "execution_count": 13,
   "metadata": {},
   "outputs": [],
   "source": [
    "with open('tempfile.csv', 'r') as csv_file:\n",
    "    for line in csv_file.readlines():\n",
    "        collectedMeanTemp = list(map(float,line.strip().split(',')))"
   ]
  },
  {
   "cell_type": "code",
   "execution_count": null,
   "metadata": {},
   "outputs": [],
   "source": [
    "print(collectedMeanTemp)"
   ]
  },
  {
   "cell_type": "code",
   "execution_count": 22,
   "metadata": {},
   "outputs": [],
   "source": [
    "TARGET_DATE += timedelta(940)\n",
    "collectedMeanTemp2 = get_mean_temp(BASE_URL, API_KEY, LOCATION, EXCLUDE, TARGET_DATE, 886)"
   ]
  },
  {
   "cell_type": "code",
   "execution_count": null,
   "metadata": {},
   "outputs": [],
   "source": [
    "print(collectedMeanTemp2)"
   ]
  },
  {
   "cell_type": "code",
   "execution_count": 38,
   "metadata": {},
   "outputs": [],
   "source": [
    "meanTemp = collectedMeanTemp + collectedMeanTemp2"
   ]
  },
  {
   "cell_type": "code",
   "execution_count": null,
   "metadata": {},
   "outputs": [],
   "source": [
    "print(meanTemp)"
   ]
  },
  {
   "cell_type": "code",
   "execution_count": 49,
   "metadata": {},
   "outputs": [],
   "source": [
    "import pandas as pd\n",
    "csv_data = pd.read_csv(\"WeatherDataSet.csv\")\n",
    "df = pd.DataFrame(csv_data)\n",
    "df[\"temperatureMean\"] = meanTemp"
   ]
  },
  {
   "cell_type": "code",
   "execution_count": 50,
   "metadata": {},
   "outputs": [
    {
     "data": {
      "text/html": [
       "<div>\n",
       "<style scoped>\n",
       "    .dataframe tbody tr th:only-of-type {\n",
       "        vertical-align: middle;\n",
       "    }\n",
       "\n",
       "    .dataframe tbody tr th {\n",
       "        vertical-align: top;\n",
       "    }\n",
       "\n",
       "    .dataframe thead th {\n",
       "        text-align: right;\n",
       "    }\n",
       "</style>\n",
       "<table border=\"1\" class=\"dataframe\">\n",
       "  <thead>\n",
       "    <tr style=\"text-align: right;\">\n",
       "      <th></th>\n",
       "      <th>date</th>\n",
       "      <th>temperatureMin</th>\n",
       "      <th>temperatureMax</th>\n",
       "      <th>humidity</th>\n",
       "      <th>dewPoint</th>\n",
       "      <th>windSpeed</th>\n",
       "      <th>temperatureMean</th>\n",
       "    </tr>\n",
       "  </thead>\n",
       "  <tbody>\n",
       "    <tr>\n",
       "      <th>0</th>\n",
       "      <td>2018/01/01</td>\n",
       "      <td>58.78</td>\n",
       "      <td>83.07</td>\n",
       "      <td>0.67</td>\n",
       "      <td>57.63</td>\n",
       "      <td>3.36</td>\n",
       "      <td>70.5929</td>\n",
       "    </tr>\n",
       "    <tr>\n",
       "      <th>1</th>\n",
       "      <td>2018/01/02</td>\n",
       "      <td>60.46</td>\n",
       "      <td>83.13</td>\n",
       "      <td>0.69</td>\n",
       "      <td>59.33</td>\n",
       "      <td>4.55</td>\n",
       "      <td>70.5929</td>\n",
       "    </tr>\n",
       "    <tr>\n",
       "      <th>2</th>\n",
       "      <td>2018/01/03</td>\n",
       "      <td>64.04</td>\n",
       "      <td>80.68</td>\n",
       "      <td>0.70</td>\n",
       "      <td>60.35</td>\n",
       "      <td>4.48</td>\n",
       "      <td>70.5929</td>\n",
       "    </tr>\n",
       "    <tr>\n",
       "      <th>3</th>\n",
       "      <td>2018/01/04</td>\n",
       "      <td>60.63</td>\n",
       "      <td>80.30</td>\n",
       "      <td>0.71</td>\n",
       "      <td>58.65</td>\n",
       "      <td>5.91</td>\n",
       "      <td>70.5929</td>\n",
       "    </tr>\n",
       "    <tr>\n",
       "      <th>4</th>\n",
       "      <td>2018/01/05</td>\n",
       "      <td>56.63</td>\n",
       "      <td>79.61</td>\n",
       "      <td>0.65</td>\n",
       "      <td>54.36</td>\n",
       "      <td>4.81</td>\n",
       "      <td>70.5929</td>\n",
       "    </tr>\n",
       "    <tr>\n",
       "      <th>...</th>\n",
       "      <td>...</td>\n",
       "      <td>...</td>\n",
       "      <td>...</td>\n",
       "      <td>...</td>\n",
       "      <td>...</td>\n",
       "      <td>...</td>\n",
       "      <td>...</td>\n",
       "    </tr>\n",
       "    <tr>\n",
       "      <th>1821</th>\n",
       "      <td>2022/12/27</td>\n",
       "      <td>62.03</td>\n",
       "      <td>79.70</td>\n",
       "      <td>0.69</td>\n",
       "      <td>58.38</td>\n",
       "      <td>4.77</td>\n",
       "      <td>75.2133</td>\n",
       "    </tr>\n",
       "    <tr>\n",
       "      <th>1822</th>\n",
       "      <td>2022/12/28</td>\n",
       "      <td>62.02</td>\n",
       "      <td>79.69</td>\n",
       "      <td>0.69</td>\n",
       "      <td>58.27</td>\n",
       "      <td>4.77</td>\n",
       "      <td>75.2133</td>\n",
       "    </tr>\n",
       "    <tr>\n",
       "      <th>1823</th>\n",
       "      <td>2022/12/29</td>\n",
       "      <td>62.01</td>\n",
       "      <td>79.69</td>\n",
       "      <td>0.68</td>\n",
       "      <td>58.16</td>\n",
       "      <td>4.77</td>\n",
       "      <td>75.2133</td>\n",
       "    </tr>\n",
       "    <tr>\n",
       "      <th>1824</th>\n",
       "      <td>2022/12/30</td>\n",
       "      <td>62.01</td>\n",
       "      <td>79.69</td>\n",
       "      <td>0.68</td>\n",
       "      <td>58.05</td>\n",
       "      <td>4.77</td>\n",
       "      <td>75.2133</td>\n",
       "    </tr>\n",
       "    <tr>\n",
       "      <th>1825</th>\n",
       "      <td>2022/12/31</td>\n",
       "      <td>62.02</td>\n",
       "      <td>79.70</td>\n",
       "      <td>0.68</td>\n",
       "      <td>57.93</td>\n",
       "      <td>4.78</td>\n",
       "      <td>75.2133</td>\n",
       "    </tr>\n",
       "  </tbody>\n",
       "</table>\n",
       "<p>1826 rows × 7 columns</p>\n",
       "</div>"
      ],
      "text/plain": [
       "            date  temperatureMin  temperatureMax  humidity  dewPoint  \\\n",
       "0     2018/01/01           58.78           83.07      0.67     57.63   \n",
       "1     2018/01/02           60.46           83.13      0.69     59.33   \n",
       "2     2018/01/03           64.04           80.68      0.70     60.35   \n",
       "3     2018/01/04           60.63           80.30      0.71     58.65   \n",
       "4     2018/01/05           56.63           79.61      0.65     54.36   \n",
       "...          ...             ...             ...       ...       ...   \n",
       "1821  2022/12/27           62.03           79.70      0.69     58.38   \n",
       "1822  2022/12/28           62.02           79.69      0.69     58.27   \n",
       "1823  2022/12/29           62.01           79.69      0.68     58.16   \n",
       "1824  2022/12/30           62.01           79.69      0.68     58.05   \n",
       "1825  2022/12/31           62.02           79.70      0.68     57.93   \n",
       "\n",
       "      windSpeed  temperatureMean  \n",
       "0          3.36          70.5929  \n",
       "1          4.55          70.5929  \n",
       "2          4.48          70.5929  \n",
       "3          5.91          70.5929  \n",
       "4          4.81          70.5929  \n",
       "...         ...              ...  \n",
       "1821       4.77          75.2133  \n",
       "1822       4.77          75.2133  \n",
       "1823       4.77          75.2133  \n",
       "1824       4.77          75.2133  \n",
       "1825       4.78          75.2133  \n",
       "\n",
       "[1826 rows x 7 columns]"
      ]
     },
     "execution_count": 50,
     "metadata": {},
     "output_type": "execute_result"
    }
   ],
   "source": [
    "df"
   ]
  },
  {
   "cell_type": "code",
   "execution_count": 52,
   "metadata": {},
   "outputs": [],
   "source": [
    "df.to_csv('WeatherData.csv', index=False)"
   ]
  }
 ],
 "metadata": {
  "kernelspec": {
   "display_name": "Python 3",
   "language": "python",
   "name": "python3"
  },
  "language_info": {
   "codemirror_mode": {
    "name": "ipython",
    "version": 3
   },
   "file_extension": ".py",
   "mimetype": "text/x-python",
   "name": "python",
   "nbconvert_exporter": "python",
   "pygments_lexer": "ipython3",
   "version": "3.7.6"
  }
 },
 "nbformat": 4,
 "nbformat_minor": 4
}
